{
 "cells": [
  {
   "cell_type": "markdown",
   "metadata": {},
   "source": [
    "# Week 21 Homework: APIs"
   ]
  },
  {
   "cell_type": "markdown",
   "metadata": {},
   "source": [
    "### 1.\tCreate a basic API in Azure (as we did in class) that tells you how to access the different endpoints when you go to the home page. You should have the following endpoints:\n",
    "a.\tA /all endpoint that displays all of the nobel.json data\n",
    "\n",
    "b.\tA /<year> GET endpoint that allows for you to pass in any year and shows you the Nobel prizes from that year\n",
    "\n",
    "c.\tA /<year> POST endpoint that lets you add additional data\n",
    "\n",
    "    i.\tYou can use a form or pass the data in to the API url\n",
    "\n",
    "    ii.\tMake sure you see your updates when you go to /all"
   ]
  },
  {
   "cell_type": "code",
   "execution_count": 7,
   "metadata": {},
   "outputs": [
    {
     "name": "stdout",
     "output_type": "stream",
     "text": [
      " * Serving Flask app \"__main__\" (lazy loading)\n",
      " * Environment: production\n",
      "\u001b[31m   WARNING: This is a development server. Do not use it in a production deployment.\u001b[0m\n",
      "\u001b[2m   Use a production WSGI server instead.\u001b[0m\n",
      " * Debug mode: on\n"
     ]
    },
    {
     "name": "stderr",
     "output_type": "stream",
     "text": [
      " * Running on http://127.0.0.1:8500/ (Press CTRL+C to quit)\n",
      " * Restarting with fsevents reloader\n"
     ]
    },
    {
     "ename": "SystemExit",
     "evalue": "1",
     "output_type": "error",
     "traceback": [
      "An exception has occurred, use %tb to see the full traceback.\n",
      "\u001b[0;31mSystemExit\u001b[0m\u001b[0;31m:\u001b[0m 1\n"
     ]
    },
    {
     "name": "stderr",
     "output_type": "stream",
     "text": [
      "/Applications/anaconda3/lib/python3.8/site-packages/IPython/core/interactiveshell.py:3426: UserWarning: To exit: use 'exit', 'quit', or Ctrl-D.\n",
      "  warn(\"To exit: use 'exit', 'quit', or Ctrl-D.\", stacklevel=1)\n"
     ]
    }
   ],
   "source": [
    "#!/usr/bin/env python\n",
    "\n",
    "from flask import Flask, json, render_template, request, redirect\n",
    "import os\n",
    "\n",
    "app = Flask(__name__)\n",
    "\n",
    "# This is the easy part:\n",
    "@app.route(\"/all\")\n",
    "def nobel():\n",
    "    json_url = os.path.join(app.static_folder,\"\",\"nobel.json\")\n",
    "    data_json = json.load(open(json_url))\n",
    "    #render_template is always looking in templates folder\n",
    "    return render_template('index.html',data=data_json)\n",
    "\n",
    "# This creates the \"/<year>\" GET endpoint. \n",
    "# I also tried using an if/else statement for GET method vs. POST method, but it didn't work. \n",
    "@app.route(\"/<year>\", methods=['GET'])\n",
    "def nobel_year(year):\n",
    "    json_url = os.path.join(app.static_folder,\"\",\"nobel.json\")\n",
    "    data_json = json.load(open(json_url))\n",
    "    data = data_json[\"prizes\"]\n",
    "    year = request.view_args['year']\n",
    "    output_data = [x for x in data if x['year']==year]\n",
    "    #render_template is always looking in templates folder\n",
    "    return render_template('index.html',data=output_data)\n",
    "\n",
    "# This creates the \"/<year>\" POST endpoint.\n",
    "# My previous version successfully created a form but did not write to the JSON file.\n",
    "# When I tried to incorporate the code for appending a JSON file, it did not work, and the form part didn't work anymore, either.\n",
    "@app.route(\"/<year>\", methods=['POST', 'GET'])\n",
    "def new_prize():\n",
    "    if request.method == 'POST':\n",
    "        #json_url = os.path.join(app.static_folder,\"\",\"nobel.json\")\n",
    "        #data_json = json.load(open(json_url))\n",
    "        \n",
    "        # I don't know why some of these variables are sort of grayed out...\n",
    "        new_year = request.form['year']\n",
    "        new_category = request.form['category']\n",
    "        new_id = request.form['id']\n",
    "        new_firstname = request.form['firstname']\n",
    "        new_surname = request.form['surname']\n",
    "        new_motivation = request.form['motivation']\n",
    "        new_share = request.form['share']\n",
    "\n",
    "        nobel_dict = {'year':new_year}\n",
    "        with open('./static/nobel.json','r+') as file:\n",
    "            # First we load existing data into a dict.\n",
    "            file_data = json.load(file)\n",
    "            # Join new_data with file_data inside emp_details\n",
    "            file_data[\"prizes\"].append(nobel_dict)\n",
    "            # Sets file's current position at offset.\n",
    "            file.seek(0)\n",
    "            # convert back to json.\n",
    "            json.dump(file_data, file, indent = 4)\n",
    "        return render_template('index.html',data=nobel_dict)\n",
    "\n",
    "#I couldn't get any of the \"else\" conditions to work properly...\n",
    "    #else:\n",
    "        #return render_template('index.html')\n",
    "        #return redirect render_template('index.html')\n",
    "        #return redirect(json_url)\n",
    "\n",
    "if __name__ == '__main__':\n",
    "    app.run(debug=True, port=8500)"
   ]
  },
  {
   "cell_type": "markdown",
   "metadata": {},
   "source": [
    "This is a screenshot of the page generated by the \"/all\" endpoint:\n",
    "<img src=\"files/nobel_app3.png\">"
   ]
  },
  {
   "cell_type": "markdown",
   "metadata": {},
   "source": [
    "This is a screenshot of the page generated by the \"/<year<year>>\" GET endpoint:\n",
    "<img src=\"files/nobel_app2.png\">"
   ]
  },
  {
   "cell_type": "markdown",
   "metadata": {},
   "source": [
    "This is a screenshot from a previous version, showing that I was able to generate a form:\n",
    "\n",
    "<img src=\"files/nobel_app1.png\">"
   ]
  },
  {
   "cell_type": "code",
   "execution_count": null,
   "metadata": {},
   "outputs": [],
   "source": []
  },
  {
   "cell_type": "markdown",
   "metadata": {},
   "source": [
    "### 2.\tWhat kind of API did you build? What types of APIs are there? Why are APIs important?"
   ]
  },
  {
   "cell_type": "markdown",
   "metadata": {},
   "source": [
    "None of the readings mentioned types of APIs at all. \n",
    "\n",
    "We did read an article in class last week about \"CRUD\" versus \"REST,\" but that article did not say that those were types of APIs. From sources I've found online, it looks like REST is sometimes used to refer to APIs that use the REST architecture or design, but CRUD is definitely *not* a type of API. It just refers to actions that can be performed on applications.\n",
    "\n",
    "Other sites mostly broke web APIs into the following groups:\n",
    "* Open (or public) APIs: These are publicly available, with no access restrictions.\n",
    "* Partner APIs: These are not publicly available. You need certain licenses or clearances to access these.\n",
    "* Internal (or Private) APIs: These can only be accessed internally within an organization.\n",
    "* Composite APIs: I had a difficult time understanding this type. A source said, \"This type of API combines different data and service APIs. It is a sequence of tasks that run synchronously as a result of the execution, and not at the request of a task. Its main uses are to speed up the process of execution and improve the performance of the listeners in the web interfaces.\" \n",
    "\n",
    "Web services APIs appear to be a fifth type of API, separate from the other four. All I could deduce was that these are accessed through web addresses/URLs. And within this group, there are multipole types that are categorized by the protocaol used to run them or the particular design used to create them. Here are a few examples:\n",
    "\n",
    "* Simple Object Access Protocol (SOAP) uses XML to transfer data.\n",
    "* XML-RPC also uses XML but a different type of XML format. It's also simpler than SOAP.\n",
    "* JSON-RPC uses JSON to transfer data but is otherwise similar to XML-RPC.\n",
    "* Representational State Transfer (REST) refers to a particular framework or \"architecture\" that some APIs are built around. This differs from the others, which are named after protocols rather than structure.\n",
    "\n",
    "Based on all of the information above, my best guess is that the API I built is a JSON-RPC API because it uses JSON to transfer data.\n",
    "\n",
    "APIs are important because they allow a computer or program to use the processing power and/or data of another one."
   ]
  },
  {
   "cell_type": "code",
   "execution_count": null,
   "metadata": {},
   "outputs": [],
   "source": []
  }
 ],
 "metadata": {
  "kernelspec": {
   "display_name": "Python 3",
   "language": "python",
   "name": "python3"
  },
  "language_info": {
   "codemirror_mode": {
    "name": "ipython",
    "version": 3
   },
   "file_extension": ".py",
   "mimetype": "text/x-python",
   "name": "python",
   "nbconvert_exporter": "python",
   "pygments_lexer": "ipython3",
   "version": "3.8.5"
  }
 },
 "nbformat": 4,
 "nbformat_minor": 4
}
